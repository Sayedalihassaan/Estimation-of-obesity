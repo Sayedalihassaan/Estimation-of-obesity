{
 "cells": [
  {
   "cell_type": "markdown",
   "id": "1473b39e",
   "metadata": {},
   "source": [
    "# Estimation of obesity levels based on eating habits and physical condition"
   ]
  },
  {
   "cell_type": "markdown",
   "id": "674ae248",
   "metadata": {},
   "source": [
    "# This dataset include data for the estimation of obesity levels in individuals from the countries of Mexico, Peru and Colombia, based on their eating habits and physical condition."
   ]
  },
  {
   "cell_type": "markdown",
   "id": "ded2ada7",
   "metadata": {},
   "source": [
    "# Dataset Characteristics\n",
    "# Multivariate\n",
    "# ===============================================\n",
    "# Subject Area\n",
    "# Health and Medicine\n",
    "# ==============================================\n",
    "# Associated Tasks\n",
    "# Classification\n",
    "# ==============================================\n",
    "\n",
    "# Feature Type\n",
    "# Integer\n",
    "# ==============================================\n",
    "\n",
    "# Instances\n",
    "# 2111\n",
    "# ==============================================\n",
    "\n",
    "# Features\n",
    "# 16"
   ]
  },
  {
   "cell_type": "markdown",
   "id": "e8adb7ef",
   "metadata": {},
   "source": [
    "# Additional Information\n",
    "\n",
    "# This dataset include data for the estimation of obesity levels in individuals from the countries of Mexico, Peru and Colombia, based on their eating habits and physical condition. The data contains 17 attributes and 2111 records, the records are labeled with the class variable NObesity (Obesity Level), that allows classification of the data using the values of Insufficient Weight, Normal Weight, Overweight Level I, Overweight Level II, Obesity Type I, Obesity Type II and Obesity Type III. 77% of the data was generated synthetically using the Weka tool and the SMOTE filter, 23% of the data was collected directly from users through a web platform."
   ]
  },
  {
   "cell_type": "markdown",
   "id": "08289c2c",
   "metadata": {},
   "source": [
    "# Main Libraries"
   ]
  },
  {
   "cell_type": "code",
   "execution_count": null,
   "id": "78f7e76e",
   "metadata": {},
   "outputs": [],
   "source": [
    "import numpy as np\n",
    "import pandas as pd\n",
    "import matplotlib.pyplot as plt\n",
    "import seaborn as sns\n",
    "import missingno as mis\n",
    "import os\n",
    "import plotly.express as px\n",
    "\n",
    "import warnings\n",
    "warnings.filterwarnings(\"ignore\")\n",
    "\n",
    "from sklearn.model_selection import train_test_split\n",
    "\n",
    "## metric\n",
    "from sklearn.metrics import accuracy_score , confusion_matrix , classification_report , mean_squared_error\n",
    "\n",
    "## preprocessing\n",
    "from sklearn.preprocessing import StandardScaler , LabelEncoder\n",
    "from sklearn.impute import SimpleImputer\n",
    "from sklearn.model_selection import cross_val_score , cross_val_predict , GridSearchCV , RandomizedSearchCV\n",
    "\n",
    "## pipeline\n",
    "from sklearn.pipeline import Pipeline ,FeatureUnion\n",
    "from sklearn_features.transformers import DataFrameSelector\n",
    "\n",
    "## Ensemble\n",
    "from sklearn.ensemble import RandomForestClassifier\n",
    "\n",
    "import xgboost as xgp\n",
    "\n",
    "\n",
    "# ANN Neural Network\n",
    "from keras import layers , Sequential \n",
    "from tensorflow.keras.layers import Dense"
   ]
  },
  {
   "cell_type": "code",
   "execution_count": null,
   "id": "f8482a33",
   "metadata": {},
   "outputs": [],
   "source": [
    "path_data = r\"D:\\ML_data\\estimation+of+obesity+levels+based+on+eating+habits+and+physical+condition\\ObesityDataSet_raw_and_data_sinthetic.csv\"\n",
    "\n",
    "if os.path.exists(path_data):\n",
    "    df = pd.read_csv(path_data)\n",
    "    print(df.head())\n",
    "    \n",
    "else:\n",
    "    print(\"Sorry , your path data not found.\")"
   ]
  },
  {
   "cell_type": "code",
   "execution_count": null,
   "id": "31396de9",
   "metadata": {},
   "outputs": [],
   "source": [
    "df.tail(10)"
   ]
  },
  {
   "cell_type": "code",
   "execution_count": null,
   "id": "399c3dd4",
   "metadata": {},
   "outputs": [],
   "source": [
    "df.info()"
   ]
  },
  {
   "cell_type": "code",
   "execution_count": null,
   "id": "8c8f319f",
   "metadata": {},
   "outputs": [],
   "source": [
    "df.columns"
   ]
  },
  {
   "cell_type": "code",
   "execution_count": null,
   "id": "c55d04d0",
   "metadata": {},
   "outputs": [],
   "source": [
    "df.describe().T"
   ]
  },
  {
   "cell_type": "code",
   "execution_count": null,
   "id": "ad4c35f6",
   "metadata": {},
   "outputs": [],
   "source": [
    "df.describe(include=object).T"
   ]
  },
  {
   "cell_type": "code",
   "execution_count": null,
   "id": "cd695fe7",
   "metadata": {},
   "outputs": [],
   "source": [
    "df.isna().sum()"
   ]
  },
  {
   "cell_type": "code",
   "execution_count": null,
   "id": "67ca3778",
   "metadata": {},
   "outputs": [],
   "source": [
    "mis.matrix(df)"
   ]
  },
  {
   "cell_type": "code",
   "execution_count": null,
   "id": "271920fb",
   "metadata": {},
   "outputs": [],
   "source": [
    "mis.bar(df)"
   ]
  },
  {
   "cell_type": "markdown",
   "id": "7ce50c80",
   "metadata": {},
   "source": [
    "# EDA (Exploratory data analysis)"
   ]
  },
  {
   "cell_type": "code",
   "execution_count": null,
   "id": "4249bd1a",
   "metadata": {},
   "outputs": [],
   "source": []
  },
  {
   "cell_type": "markdown",
   "id": "fdb5f613",
   "metadata": {},
   "source": [
    "# Variable Name\tRole\tType\tDemographic\tDescription\tUnits\tMissing Values\n",
    "# Gender\tFeature\tCategorical\tGender\t\t\tno\n",
    "# Age\tFeature\tContinuous\tAge\t\t\tno\n",
    "# Height\tFeature\tContinuous\t\t\t\tno\n",
    "# Weight\tFeature\tContinuous\t\t\t\tno\n",
    "# family_history_with_overweight\tFeature\tBinary\t\tHas a family member suffered or suffers from overweight?\t\tno\n",
    "# FAVC\tFeature\tBinary\t\tDo you eat high caloric food frequently?\t\tno\n",
    "# (Food-Amount-Version-Control)\n",
    "# FCVC\tFeature\tInteger\t\tDo you usually eat vegetables in your meals?\t\tno\n",
    "# (Frequency of Consumption of Vegetables)\n",
    "# NCP\tFeature\tContinuous\t\tHow many main meals do you have daily?\t\tno\n",
    "# (Number of Consumed Portions)\n",
    "# CAEC\tFeature\tCategorical\t\tDo you eat any food between meals?\t\tno\n",
    "# (Consumption of Alcoholic Beverages)\n",
    "# SMOKE\tFeature\tBinary\t\tDo you smoke?\t\tno\n",
    "# CH2O\tFeature\tContinuous\t\tHow much water do you drink daily?\t\tno\n",
    "# SCC\tFeature\tBinary\t\tDo you monitor the calories you eat daily?\t\tno\n",
    "# (Self-Control of Caloric Intak)\n",
    "# FAF\tFeature\tContinuous\t\tHow often do you have physical activity?\t\tno\n",
    "# (\"Frequency of Physical Activity\")\n",
    "# TUE\tFeature\tInteger\t\tHow much time do you use technological devices such as cell phone, videogames, television, computer and others?\t\tno\n",
    "# (Time of Use of Electronic Devices)\n",
    "# CALC\tFeature\tCategorical\t\tHow often do you drink alcohol?\t\tno\n",
    "# (Consumption of Alcohol)\n",
    "# MTRANS\tFeature\tCategorical\t\tWhich transportation do you usually use?\t\tno\n",
    "# NObeyesdad\tTarget\tCategorical\t\tObesity level\t\tno"
   ]
  },
  {
   "cell_type": "code",
   "execution_count": null,
   "id": "27ea4f40",
   "metadata": {},
   "outputs": [],
   "source": [
    "df[\"Gender\"].value_counts()"
   ]
  },
  {
   "cell_type": "code",
   "execution_count": null,
   "id": "f67642e1",
   "metadata": {},
   "outputs": [],
   "source": [
    "df[\"NObeyesdad\"].value_counts()"
   ]
  },
  {
   "cell_type": "code",
   "execution_count": null,
   "id": "f386caaa",
   "metadata": {},
   "outputs": [],
   "source": [
    "label_counts = {\n",
    "    'Male':1068,\n",
    "    'Female':1043\n",
    "}\n",
    "\n",
    "# Create a Pie chart using Plotly\n",
    "fig = px.pie(values=list(label_counts.values()), names=list(label_counts.keys()), title='Label Distribution Male and Female')\n",
    "\n",
    "fig.update_traces(textposition='inside', textinfo='percent+label+value', hole=0.5)\n",
    "\n",
    "fig.show()\n"
   ]
  },
  {
   "cell_type": "code",
   "execution_count": null,
   "id": "f28bc7ce",
   "metadata": {},
   "outputs": [],
   "source": [
    "label_counts = {\n",
    "    'Obesity_Type_I':351,\n",
    "    'Obesity_Type_III':324,\n",
    "    'Obesity_Type_II':297,\n",
    "    'Overweight_Level_I':290,\n",
    "    'Overweight_Level_II':290,\n",
    "    'Normal_Weight':287,\n",
    "    'Insufficient_Weight':272\n",
    "}\n",
    "\n",
    "# Create a Pie chart using Plotly\n",
    "fig = px.pie(values=list(label_counts.values()), names=list(label_counts.keys()), title='Label Distribution of Trarget (NObeyesdad) ')\n",
    "\n",
    "fig.update_traces(textposition='inside', textinfo='percent+label+value', hole=0.5)\n",
    "\n",
    "fig.show()\n"
   ]
  },
  {
   "cell_type": "code",
   "execution_count": null,
   "id": "ee103536",
   "metadata": {},
   "outputs": [],
   "source": [
    "import plotly.express as px\n",
    "import pandas as pd\n",
    "\n",
    "# Convert label_counts dictionary to a DataFrame\n",
    "df_target = pd.DataFrame(list(label_counts.items()), columns=['Label', 'Count'])\n",
    "\n",
    "# Plot the bar chart\n",
    "fig = px.bar(df_target, x='Label', y='Count', title='Distribution of Obesity Levels')\n",
    "fig.show()\n"
   ]
  },
  {
   "cell_type": "code",
   "execution_count": null,
   "id": "92746bfd",
   "metadata": {},
   "outputs": [],
   "source": [
    "plt.figure(figsize=(15,12))\n",
    "sns.boxplot(data=df , x=df[\"NObeyesdad\"] , y=df[\"Age\"])\n",
    "plt.title(\"Boxplot of Target (NObeyesdad) with Age \" , fontsize=25 , color=\"r\")\n",
    "plt.xlabel(\"NObeyesdad\" , fontsize=25 , color=\"m\" )\n",
    "plt.ylabel(\"Age\" , fontsize=25 , color=\"m\" )\n",
    "plt.show()"
   ]
  },
  {
   "cell_type": "code",
   "execution_count": null,
   "id": "c0523d12",
   "metadata": {},
   "outputs": [],
   "source": [
    "sns.pairplot(df , hue=\"NObeyesdad\")\n",
    "plt.show()"
   ]
  },
  {
   "cell_type": "code",
   "execution_count": null,
   "id": "e1fa5b9c",
   "metadata": {},
   "outputs": [],
   "source": [
    "df.columns"
   ]
  },
  {
   "cell_type": "code",
   "execution_count": null,
   "id": "8e4619d7",
   "metadata": {},
   "outputs": [],
   "source": [
    "df._get_numeric_data()"
   ]
  },
  {
   "cell_type": "code",
   "execution_count": null,
   "id": "85faee79",
   "metadata": {
    "scrolled": false
   },
   "outputs": [],
   "source": [
    "for i in df._get_numeric_data():\n",
    "    sns.distplot(df[i])\n",
    "    plt.title(f'Distribution of {i}')\n",
    "    plt.xlabel(i)\n",
    "    plt.ylabel('Density')\n",
    "    plt.show()\n"
   ]
  },
  {
   "cell_type": "code",
   "execution_count": null,
   "id": "c024133c",
   "metadata": {},
   "outputs": [],
   "source": [
    "sns.barplot(df)\n",
    "plt.show()"
   ]
  },
  {
   "cell_type": "code",
   "execution_count": null,
   "id": "479b680b",
   "metadata": {},
   "outputs": [],
   "source": [
    "df.hist(bins=25 , figsize=(15,10))\n",
    "plt.show()"
   ]
  },
  {
   "cell_type": "code",
   "execution_count": null,
   "id": "aaa97cd1",
   "metadata": {},
   "outputs": [],
   "source": [
    "plt.figure(figsize=(20,10))\n",
    "plt.subplot(131)\n",
    "sns.countplot(x= 'Age', data = df, palette=\"GnBu_d\",edgecolor=\"m\")\n",
    "plt.subplot(132)\n",
    "sns.countplot(x= 'Height', data = df, palette=\"flag\",edgecolor=\"m\")\n",
    "plt.subplot(133)\n",
    "sns.countplot(x= 'Weight', data = df, palette=\"Greens_r\",edgecolor=\"m\")\n",
    "plt.show()"
   ]
  },
  {
   "cell_type": "code",
   "execution_count": null,
   "id": "d4bd9510",
   "metadata": {},
   "outputs": [],
   "source": [
    "plt.figure(figsize=(16, 4))\n",
    "plt.subplot(121)\n",
    "sns.boxplot(x = 'Weight', y = 'SCC', data = df)\n",
    "plt.subplot(122)\n",
    "sns.boxplot(x = 'Weight', y = 'CAEC', data = df)\n",
    "plt.show()"
   ]
  },
  {
   "cell_type": "code",
   "execution_count": null,
   "id": "2e99955c",
   "metadata": {},
   "outputs": [],
   "source": [
    "plt.figure(figsize=(16, 4))\n",
    "plt.subplot(121)\n",
    "sns.boxplot(x = 'Height', y = 'SCC', data = df)\n",
    "plt.subplot(122)\n",
    "sns.boxplot(x = 'Height', y = 'CAEC', data = df)\n",
    "plt.show()"
   ]
  },
  {
   "cell_type": "code",
   "execution_count": null,
   "id": "6d158cc6",
   "metadata": {},
   "outputs": [],
   "source": [
    "plt.figure(figsize=(16, 4))\n",
    "plt.subplot(121)\n",
    "sns.boxplot(x = 'Age', y = 'SCC', data = df)\n",
    "plt.subplot(122)\n",
    "sns.boxplot(x = 'Age', y = 'CAEC', data = df)\n",
    "plt.show()"
   ]
  },
  {
   "cell_type": "code",
   "execution_count": null,
   "id": "579260e3",
   "metadata": {},
   "outputs": [],
   "source": [
    "vc = df[\"NObeyesdad\"].value_counts()\n",
    "vc"
   ]
  },
  {
   "cell_type": "code",
   "execution_count": null,
   "id": "8fb64a40",
   "metadata": {},
   "outputs": [],
   "source": [
    "plt.figure(figsize=(12,8))\n",
    "ax = sns.countplot(x=df['NObeyesdad'], color='mediumseagreen')\n",
    "plt.title('Nobeyesdad Class Counts', fontsize=16)\n",
    "plt.ylabel('Class Counts', fontsize=16)\n",
    "plt.xlabel('Class Label', fontsize=16)\n",
    "plt.xticks(rotation='vertical')\n",
    "\n",
    "for p in ax.patches:\n",
    "    ax.annotate(f'{p.get_height()}', (p.get_x() + p.get_width() / 2., p.get_height()),\n",
    "                ha='center', va='center', fontsize=15, color='r', xytext=(0, 5),\n",
    "                textcoords='offset points')\n",
    "\n",
    "\n",
    "plt.show()"
   ]
  },
  {
   "cell_type": "code",
   "execution_count": null,
   "id": "cdc8d490",
   "metadata": {},
   "outputs": [],
   "source": [
    "df.corr()"
   ]
  },
  {
   "cell_type": "code",
   "execution_count": null,
   "id": "d532ded7",
   "metadata": {},
   "outputs": [],
   "source": [
    "plt.figure(figsize=(16, 8))\n",
    "sns.heatmap(df.corr(), annot=True, cmap=\"Blues\")\n",
    "plt.title(\"Correlation of Features\", fontsize=25, color=\"m\")\n",
    "plt.show()\n"
   ]
  },
  {
   "cell_type": "code",
   "execution_count": null,
   "id": "0d32b818",
   "metadata": {},
   "outputs": [],
   "source": [
    "df.duplicated().sum()"
   ]
  },
  {
   "cell_type": "code",
   "execution_count": null,
   "id": "61a7d6a0",
   "metadata": {},
   "outputs": [],
   "source": [
    "df = df.drop_duplicates()\n",
    "df"
   ]
  },
  {
   "cell_type": "code",
   "execution_count": null,
   "id": "d949e05b",
   "metadata": {},
   "outputs": [],
   "source": [
    "X = df.drop(columns=[\"NObeyesdad\"] , axis=1)\n",
    "y = df[\"NObeyesdad\"]\n",
    "y = LabelEncoder().fit_transform(y)"
   ]
  },
  {
   "cell_type": "code",
   "execution_count": null,
   "id": "e5f32366",
   "metadata": {},
   "outputs": [],
   "source": [
    "X_train , X_test ,y_train , y_test = train_test_split(X , y , test_size=0.2 , shuffle=True , random_state=123)"
   ]
  },
  {
   "cell_type": "code",
   "execution_count": null,
   "id": "8b3d46e6",
   "metadata": {},
   "outputs": [],
   "source": [
    "print(f\"the shape of X_train is {X_train.shape}\")\n",
    "print(f\"the shape of X_test is {X_test.shape}\")\n",
    "print(f\"the shape of y_train is {y_train.shape}\")\n",
    "print(f\"the shape of y_test is {y_test.shape}\")"
   ]
  },
  {
   "cell_type": "code",
   "execution_count": null,
   "id": "660bdff2",
   "metadata": {},
   "outputs": [],
   "source": [
    "col_nums = [col for col in X_train.columns if df[col].dtype in [\"int32\",\"int64\",\"float32\",\"float64\"]]\n",
    "\n",
    "col_catg = [col for col in X_train.columns if df[col].dtype not in [\"int32\",\"int64\",\"float32\",\"float64\"]]\n",
    "\n",
    "if (col_nums and col_catg):\n",
    "    print(f\"nums columns is \\n {col_nums}\")\n",
    "    print(f\"catg columns is \\n {col_catg}\")\n",
    "    \n",
    "    \n",
    "elif catg_cols:\n",
    "    print(f\"catg columns is \\n {col_catg}\")\n",
    "    \n",
    "    \n",
    "else:\n",
    "    print(f\"catg columns is \\n {col_nums}\")"
   ]
  },
  {
   "cell_type": "code",
   "execution_count": null,
   "id": "aa809f05",
   "metadata": {},
   "outputs": [],
   "source": [
    "## Assuming \"EUR/USD\" is a valid column name\n",
    "pip_num = Pipeline(steps=[(\"select\", DataFrameSelector(col_nums)),\n",
    "                           (\"Simple\", SimpleImputer(strategy=\"median\")),\n",
    "                           (\"scaler\", StandardScaler())])\n",
    "\n",
    "# X_train_nums = pip_num.fit_transform(X_train , y_train)"
   ]
  },
  {
   "cell_type": "code",
   "execution_count": null,
   "id": "46096770",
   "metadata": {},
   "outputs": [],
   "source": [
    "pip_catg = Pipeline(steps=[\n",
    "                 (\"selector\", DataFrameSelector(col_catg)),# ==> To select the categorical cols from the Data\n",
    "                 (\"Imputer\", SimpleImputer(strategy=\"constant\", fill_value=\"missing\")),\n",
    "                 (\"one_hot\", LabelEncoder())\n",
    "                ])\n"
   ]
  },
  {
   "cell_type": "code",
   "execution_count": null,
   "id": "4c5da15a",
   "metadata": {},
   "outputs": [],
   "source": [
    "def Preprocessing(cols_nums, col_catg, X_train, X_test):\n",
    "    if cols_nums and col_catg:\n",
    "        # total pipeline to concatenate the num_pipeline and cate_pipeline\n",
    "        total_pipeline = FeatureUnion(transformer_list=[(\"num_pipeline\", pip_num),\n",
    "                                                        (\"cate_pipeline\", pip_catg)])\n",
    "\n",
    "        # make fitting\n",
    "        pip_num.fit(X_train)\n",
    "        X_train_final= pip_num.transform(X_train)\n",
    "        X_test_final =  pip_num.transform(X_test)\n",
    "\n",
    "        return X_train_final, X_test_final\n",
    "\n",
    "    elif col_catg == [] and cols_nums:\n",
    "        # make fitting\n",
    "        pip_num.fit(X_train)\n",
    "        X_train_final= pip_num.transform(X_train)\n",
    "        X_test_final =  pip_num.transform(X_test)\n",
    "\n",
    "        return X_train_final, X_test_final\n",
    "\n",
    "    else:\n",
    "        # make fitting\n",
    "        pip_num.fit(X_train)\n",
    "        X_train_final= pip_num.transform(X_train)\n",
    "        X_test_final =  pip_num.transform(X_test)\n",
    "\n",
    "        return X_train_final, X_test_final\n",
    "\n",
    "\n",
    "\n",
    "X_train_final, X_test_final = Preprocessing(col_nums, col_catg, X_train, X_test)\n",
    "print(f\"X_train_final is = {X_train_final}\")\n",
    "print(\"*\"*50)\n",
    "print(f\"X_test_final is = {X_test_final}\")\n"
   ]
  },
  {
   "cell_type": "code",
   "execution_count": null,
   "id": "17b1f466",
   "metadata": {},
   "outputs": [],
   "source": [
    "df.hist(bins=25 , figsize=(15,10))\n",
    "plt.show()"
   ]
  },
  {
   "cell_type": "markdown",
   "id": "d6659a90",
   "metadata": {},
   "source": [
    "# Solve skewed by log transform"
   ]
  },
  {
   "cell_type": "code",
   "execution_count": null,
   "id": "3457f44a",
   "metadata": {},
   "outputs": [],
   "source": [
    "colms = (df._get_numeric_data()).columns\n",
    "colms"
   ]
  },
  {
   "cell_type": "code",
   "execution_count": null,
   "id": "f04eca0a",
   "metadata": {},
   "outputs": [],
   "source": [
    "colms = [cols for cols in (df._get_numeric_data()).columns]\n",
    "for col in colms:\n",
    "    df[col] = np.log(df[col] + 1e-10).astype(float)"
   ]
  },
  {
   "cell_type": "code",
   "execution_count": null,
   "id": "196b3cc8",
   "metadata": {},
   "outputs": [],
   "source": [
    "df.hist(bins=20 , figsize=(10,8))\n",
    "plt.show()"
   ]
  },
  {
   "cell_type": "markdown",
   "id": "2269c61a",
   "metadata": {},
   "source": [
    "# RandomForestClassifier"
   ]
  },
  {
   "cell_type": "code",
   "execution_count": null,
   "id": "2a378b97",
   "metadata": {},
   "outputs": [],
   "source": [
    "Random = RandomForestClassifier()"
   ]
  },
  {
   "cell_type": "code",
   "execution_count": null,
   "id": "ed20d9fb",
   "metadata": {},
   "outputs": [],
   "source": [
    "# Define the hyperparameter grid\n",
    "hyper_params = {\n",
    "    \"n_estimators\": [i for i in range(100 ,500 ,100)],\n",
    "    \"max_depth\": [i for i in range(3,15,3)],\n",
    "    \"criterion\": ['entropy', 'gini', 'log_loss'],\n",
    "}\n",
    "\n",
    "# Create GridSearchCV object\n",
    "random_hyper = GridSearchCV(\n",
    "    estimator=Random,\n",
    "    param_grid=hyper_params,\n",
    "    scoring=\"neg_mean_squared_error\",\n",
    "    cv=5,\n",
    "    n_jobs=-1\n",
    ")\n",
    "\n",
    "# Fit the model\n",
    "random_model = random_hyper.fit(X_train_final, y_train)\n"
   ]
  },
  {
   "cell_type": "code",
   "execution_count": null,
   "id": "a50c542c",
   "metadata": {},
   "outputs": [],
   "source": [
    "print(\"Best parameters : \\n\", random_model.best_params_)\n"
   ]
  },
  {
   "cell_type": "code",
   "execution_count": null,
   "id": "1accdd6f",
   "metadata": {},
   "outputs": [],
   "source": [
    "Rand_sea = random_model.best_estimator_\n",
    "Rand_sea"
   ]
  },
  {
   "cell_type": "code",
   "execution_count": null,
   "id": "bc84aa38",
   "metadata": {},
   "outputs": [],
   "source": [
    "corss_val = cross_val_score(estimator=Rand_sea ,X = X_train_final , y=y_train ,\n",
    "                            scoring=\"accuracy\" , cv=5 , n_jobs=-1)\n",
    "\n",
    "print(\"Score is ==>>\\n \",abs(corss_val))\n",
    "\n",
    "print(\"cross val score mean is ==>> \",corss_val.mean())"
   ]
  },
  {
   "cell_type": "code",
   "execution_count": null,
   "id": "bc0412a8",
   "metadata": {},
   "outputs": [],
   "source": [
    "cross_val_pred = cross_val_predict(estimator=Rand_sea ,X = X_train_final , y=y_train ,\n",
    "                                  method=\"predict\" , cv=5 , n_jobs=-1)\n",
    "\n",
    "\n",
    "# Calculate mean squared error\n",
    "mse = np.sqrt(mean_squared_error(y_train, cross_val_pred))\n",
    "\n",
    "# Print the MSE\n",
    "print(f\"The mean squared error is {mse:.4f}\")"
   ]
  },
  {
   "cell_type": "code",
   "execution_count": null,
   "id": "6d89f224",
   "metadata": {},
   "outputs": [],
   "source": [
    "X_train_final.shape[1]"
   ]
  },
  {
   "cell_type": "code",
   "execution_count": null,
   "id": "29d8e6c7",
   "metadata": {},
   "outputs": [],
   "source": [
    "df.columns"
   ]
  },
  {
   "cell_type": "code",
   "execution_count": null,
   "id": "df2e0644",
   "metadata": {},
   "outputs": [],
   "source": [
    "mylist =[col for col in df.columns if df[col].dtype in [\"int32\",\"int64\",\"float32\",\"float64\"]]\n",
    "mylist"
   ]
  },
  {
   "cell_type": "code",
   "execution_count": null,
   "id": "223d7d12",
   "metadata": {},
   "outputs": [],
   "source": [
    "# Numerical Columns only \n",
    "mylist = ['Age', 'Height', 'Weight', 'FCVC', 'NCP', 'CH2O', 'FAF', 'TUE']\n",
    "\n",
    "importance = random_model.best_estimator_.feature_importances_\n",
    "\n",
    "for feature, importance_score in zip(mylist, importance):\n",
    "    print(feature, importance_score)\n"
   ]
  },
  {
   "cell_type": "code",
   "execution_count": null,
   "id": "9cf0aeff",
   "metadata": {},
   "outputs": [],
   "source": [
    "plt.figure(figsize=(10, 8))\n",
    "plt.barh(mylist, importance) \n",
    "plt.xlabel(\"Feature\")\n",
    "plt.ylabel(\"Importance\")\n",
    "plt.title(\"Feature Importances\")\n",
    "plt.xticks(rotation='vertical' ,c=\"k\" , fontsize=12)\n",
    "plt.yticks(c=\"k\" , fontsize=12)\n",
    "plt.grid(True)\n",
    "plt.show()"
   ]
  },
  {
   "cell_type": "code",
   "execution_count": null,
   "id": "f6a51d6f",
   "metadata": {},
   "outputs": [],
   "source": [
    "y_pred = random_model.predict(X_test_final)\n",
    "y_pred[:5]"
   ]
  },
  {
   "cell_type": "code",
   "execution_count": null,
   "id": "5e69ae88",
   "metadata": {},
   "outputs": [],
   "source": [
    "confusion = confusion_matrix(y_test , y_pred)\n",
    "confusion"
   ]
  },
  {
   "cell_type": "code",
   "execution_count": null,
   "id": "23d4e8a8",
   "metadata": {},
   "outputs": [],
   "source": [
    "plt.figure(figsize=(14,8))\n",
    "sns.heatmap(confusion , fmt=\"g\" , annot=True , cbar=True , vmin=0 , cmap=\"Blues\")\n",
    "plt.xticks(ticks=np.arange(2) + 0.5 , labels=[\"False\" , \"True\"])\n",
    "plt.yticks(ticks=np.arange(2) + 0.5 , labels=[\"False\" , \"True\"])\n",
    "plt.xlabel(\"Predicted\" , fontsize=14 , color=\"b\")\n",
    "plt.ylabel(\"Actula\" , fontsize=14 , color=\"b\")\n",
    "plt.title(\"Confusion Matrix\" , fontsize=20 , color=\"m\")\n",
    "plt.show()"
   ]
  },
  {
   "cell_type": "code",
   "execution_count": null,
   "id": "899451e8",
   "metadata": {},
   "outputs": [],
   "source": [
    "print(f\" some details \\n {classification_report(y_test , y_pred)}\")"
   ]
  },
  {
   "cell_type": "markdown",
   "id": "1b5ba477",
   "metadata": {},
   "source": [
    "# xgboost"
   ]
  },
  {
   "cell_type": "code",
   "execution_count": null,
   "id": "05f6e74b",
   "metadata": {},
   "outputs": [],
   "source": [
    "xg_clas = xgp.XGBClassifier()\n",
    "xg_clas.fit(X_train_final , y_train)"
   ]
  },
  {
   "cell_type": "code",
   "execution_count": null,
   "id": "7536b8ff",
   "metadata": {},
   "outputs": [],
   "source": [
    "cross_val_xgb = cross_val_score(estimator=xg_clas , X=X_train_final , y=y_train ,\n",
    "                            cv=5 , scoring=\"accuracy\" , n_jobs=-1)\n",
    "\n",
    " \n",
    "print(\"Score is ==>>\\n \",abs(cross_val_xgb))\n",
    "\n",
    "print(\"cross val score mean is ==>> \",cross_val_xgb.mean())"
   ]
  },
  {
   "cell_type": "code",
   "execution_count": null,
   "id": "5ac05f13",
   "metadata": {},
   "outputs": [],
   "source": [
    "# Make cross-validation predictions\n",
    "cross_val_pred = cross_val_predict(estimator=xg_clas, X=X_train_final, y=y_train,\n",
    "                                   cv=5, method=\"predict\", n_jobs=-1)\n",
    "\n",
    "\n",
    "\n",
    "# Calculate mean squared error\n",
    "mse =np.sqrt(mean_squared_error(y_train, cross_val_pred))\n",
    "# Print the MSE\n",
    "print(f\"The mean squared error is {mse:.4f}\")"
   ]
  },
  {
   "cell_type": "markdown",
   "id": "217ab109",
   "metadata": {},
   "source": [
    "# Using Deep Learning "
   ]
  },
  {
   "cell_type": "code",
   "execution_count": null,
   "id": "12d78544",
   "metadata": {},
   "outputs": [],
   "source": [
    "X_train_final[0].shape"
   ]
  },
  {
   "cell_type": "code",
   "execution_count": null,
   "id": "9c83b649",
   "metadata": {},
   "outputs": [],
   "source": [
    "# setting up the layers of Neural Network\n",
    "\n",
    "model = Sequential([  \n",
    "                          layers.Flatten(input_shape=(X_train_final[0].shape)),\n",
    "                          layers.Dense(64, activation='relu'),\n",
    "                          layers.Dense(7, activation='softmax')\n",
    "])\n",
    "\n",
    "model.summary()"
   ]
  },
  {
   "cell_type": "code",
   "execution_count": null,
   "id": "b230bc94",
   "metadata": {},
   "outputs": [],
   "source": [
    "# compiling the Neural Network\n",
    "\n",
    "model.compile(optimizer=\"adam\" ,\n",
    "              loss=\"sparse_categorical_crossentropy\",\n",
    "              metrics=[\"accuracy\"])"
   ]
  },
  {
   "cell_type": "code",
   "execution_count": null,
   "id": "1f3cd18a",
   "metadata": {},
   "outputs": [],
   "source": [
    "# training the Neural Network\n",
    "history = model.fit(X_train_final , y_train , epochs=50)\n",
    "history"
   ]
  },
  {
   "cell_type": "code",
   "execution_count": null,
   "id": "24c2a5b5",
   "metadata": {},
   "outputs": [],
   "source": [
    "# Evaluating the model\n",
    "\n",
    "loss, accuracy = model.evaluate(X_test_final, y_test)\n",
    "print(\"Accuracy is == \" , accuracy)\n",
    "print(\"loss is == \" , np.round(loss , 4))"
   ]
  },
  {
   "cell_type": "code",
   "execution_count": null,
   "id": "79107b61",
   "metadata": {},
   "outputs": [],
   "source": [
    "# The style\n",
    "sns.set(style='whitegrid')\n",
    "\n",
    "# Plotting training history\n",
    "plt.figure(figsize=(15, 8))\n",
    "\n",
    "# Plot accuracy\n",
    "plt.subplot(1, 2, 1)\n",
    "plt.plot(history.history['accuracy'], label='Training Accuracy', linestyle='-', marker='X', markersize=5)\n",
    "plt.xlabel('Epoch')\n",
    "plt.ylabel('Accuracy')\n",
    "plt.title('Training Accuracy')\n",
    "plt.legend()\n",
    "\n",
    "# Plot loss\n",
    "plt.subplot(1, 2, 2)\n",
    "plt.plot(history.history['loss'], label='Training Loss', linestyle='-', marker='o', markersize=5)\n",
    "plt.xlabel('Epoch')\n",
    "plt.ylabel('Loss')\n",
    "plt.title('Training Loss')\n",
    "plt.legend()\n",
    "\n",
    "plt.tight_layout()\n",
    "plt.show()"
   ]
  },
  {
   "cell_type": "code",
   "execution_count": null,
   "id": "7ddbd0c0",
   "metadata": {},
   "outputs": [],
   "source": [
    "# The Prediction\n",
    "prediction = model.predict(X_test_final)\n",
    "prediction"
   ]
  },
  {
   "cell_type": "code",
   "execution_count": null,
   "id": "2fb935d5",
   "metadata": {},
   "outputs": [],
   "source": [
    "len(prediction) , len(y_test)"
   ]
  },
  {
   "cell_type": "code",
   "execution_count": null,
   "id": "abeebafb",
   "metadata": {},
   "outputs": [],
   "source": [
    "import seaborn as sns\n",
    "\n",
    "sns.histplot(y_test, color='blue', label='Actual', kde=True)\n",
    "sns.histplot(prediction, color='red', label='Predicted', kde=True)\n",
    "plt.xlabel(\"Values\")\n",
    "plt.ylabel(\"Frequency\")\n",
    "plt.title(\"Actual vs. Predicted Distribution\")\n",
    "plt.legend()\n",
    "plt.show()\n"
   ]
  },
  {
   "cell_type": "code",
   "execution_count": null,
   "id": "c4145477",
   "metadata": {},
   "outputs": [],
   "source": [
    "plt.figure(figsize=(10,7))\n",
    "class_index = 0  \n",
    "predictions_class = prediction[:, class_index]\n",
    "\n",
    "# Calculate residuals\n",
    "residuals = y_test - predictions_class\n",
    "\n",
    "# Plotting residuals\n",
    "plt.scatter(predictions_class, residuals)\n",
    "plt.xlabel(\"Predicted Values\")\n",
    "plt.ylabel(\"Residuals\")\n",
    "plt.title(\"Residual Plot\")\n",
    "plt.axhline(y=0, color='k', linestyle='--')\n",
    "plt.show()\n"
   ]
  },
  {
   "cell_type": "markdown",
   "id": "4cd0b2cd",
   "metadata": {},
   "source": [
    "# END "
   ]
  },
  {
   "cell_type": "markdown",
   "id": "b982ff59",
   "metadata": {},
   "source": [
    "# BY : SAYED ALI"
   ]
  },
  {
   "cell_type": "code",
   "execution_count": null,
   "id": "b09ce851",
   "metadata": {},
   "outputs": [],
   "source": []
  }
 ],
 "metadata": {
  "kernelspec": {
   "display_name": "Python 3 (ipykernel)",
   "language": "python",
   "name": "python3"
  },
  "language_info": {
   "codemirror_mode": {
    "name": "ipython",
    "version": 3
   },
   "file_extension": ".py",
   "mimetype": "text/x-python",
   "name": "python",
   "nbconvert_exporter": "python",
   "pygments_lexer": "ipython3",
   "version": "3.10.9"
  }
 },
 "nbformat": 4,
 "nbformat_minor": 5
}
